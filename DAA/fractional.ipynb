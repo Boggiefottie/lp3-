{
 "cells": [
  {
   "cell_type": "code",
   "execution_count": 3,
   "id": "e7d5ee16-67f1-418d-b223-cd00ec378a26",
   "metadata": {},
   "outputs": [
    {
     "name": "stdin",
     "output_type": "stream",
     "text": [
      "Enter number of items-\n",
      " 3\n",
      "Enter profit of item 1-\n",
      " 2\n",
      "Enter weight of item 1-\n",
      " 1\n",
      "Enter profit of item 2-\n",
      " 3\n",
      "Enter weight of item 2-\n",
      " 2\n",
      "Enter profit of item 3-\n",
      " 4\n",
      "Enter weight of item 3-\n",
      " 3\n",
      "Enter capacity of knapsack-\n",
      " 4\n"
     ]
    },
    {
     "name": "stdout",
     "output_type": "stream",
     "text": [
      "Maximum value in knapsack:  6.333333333333333\n"
     ]
    }
   ],
   "source": [
    "class Item:\n",
    "    def __init__(self, profit, weight):\n",
    "        self.profit = profit\n",
    "        self.weight = weight\n",
    "\n",
    "def fractionalKnapsack(w, arr):\n",
    "    arr.sort(key=lambda x: x.profit/x.weight, reverse=True)\n",
    "    finalValue = 0.0\n",
    "    for item in arr:\n",
    "        if w >= item.weight:\n",
    "            finalValue += item.profit\n",
    "            w -= item.weight\n",
    "        else:\n",
    "            finalValue += item.profit * (w/item.weight)\n",
    "            break\n",
    "    return finalValue\n",
    "\n",
    "if __name__ == \"__main__\":\n",
    "    n = int(input(\"Enter number of items-\\n\"))\n",
    "    arr = []\n",
    "    for i in range(n):\n",
    "        profit = int(input(\"Enter profit of item \" + str(i + 1) + \"-\\n\"))\n",
    "        weight = int(input(\"Enter weight of item \" + str(i + 1) + \"-\\n\"))\n",
    "        arr.append(Item(profit, weight))\n",
    "    w = int(input(\"Enter capacity of knapsack-\\n\"))\n",
    "    print(\"Maximum value in knapsack: \", fractionalKnapsack(w, arr))"
   ]
  },
  {
   "cell_type": "code",
   "execution_count": null,
   "id": "87c9c6d8-fb4b-463e-9b81-d9d12953dfdb",
   "metadata": {},
   "outputs": [],
   "source": []
  }
 ],
 "metadata": {
  "kernelspec": {
   "display_name": "Python 3 (ipykernel)",
   "language": "python",
   "name": "python3"
  },
  "language_info": {
   "codemirror_mode": {
    "name": "ipython",
    "version": 3
   },
   "file_extension": ".py",
   "mimetype": "text/x-python",
   "name": "python",
   "nbconvert_exporter": "python",
   "pygments_lexer": "ipython3",
   "version": "3.12.7"
  }
 },
 "nbformat": 4,
 "nbformat_minor": 5
}
